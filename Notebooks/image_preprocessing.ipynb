{
 "cells": [
  {
   "cell_type": "markdown",
   "id": "fef45b41-01b4-47de-83c3-ff3edbd47c06",
   "metadata": {},
   "source": [
    "## Image preprocessing\n",
    "\n",
    "\n",
    "The algorithm should be able to process an image like this:\n",
    "\n",
    "![image_example](image_example.png)\n",
    "\n",
    "into the MNIST-like image."
   ]
  },
  {
   "cell_type": "code",
   "execution_count": 14,
   "id": "6c0c263f-2a52-49e7-ac67-6ce4970c8b04",
   "metadata": {},
   "outputs": [],
   "source": [
    "import numpy as np\n",
    "import matplotlib.pyplot as plt\n",
    "from PIL import Image\n",
    "\n",
    "import torch\n",
    "import torchvision.transforms as T"
   ]
  },
  {
   "cell_type": "code",
   "execution_count": 39,
   "id": "27e7b276-1569-4853-b86b-6098b1ec08a3",
   "metadata": {},
   "outputs": [
    {
     "data": {
      "text/plain": [
       "tensor([[0, 0, 0, 0, 0],\n",
       "        [0, 0, 0, 0, 0],\n",
       "        [0, 0, 0, 0, 0],\n",
       "        [0, 0, 0, 0, 0]], dtype=torch.uint8)"
      ]
     },
     "execution_count": 39,
     "metadata": {},
     "output_type": "execute_result"
    }
   ],
   "source": [
    "im = T.Grayscale()(Image.open(\"image_example.png\"))\n",
    "npim = np.array(im)\n",
    "ptim = torch.from_numpy(npim)\n",
    "ptim[:4, :5]"
   ]
  },
  {
   "cell_type": "code",
   "execution_count": 37,
   "id": "8c4ac7de-afc1-4996-a500-fe94db6fbe31",
   "metadata": {},
   "outputs": [
    {
     "data": {
      "text/plain": [
       "(283, 587)"
      ]
     },
     "execution_count": 37,
     "metadata": {},
     "output_type": "execute_result"
    }
   ],
   "source": [
    "npim.shape"
   ]
  },
  {
   "cell_type": "code",
   "execution_count": 47,
   "id": "063ee643-3ecb-4da0-9bbe-844b7094fe8e",
   "metadata": {},
   "outputs": [
    {
     "data": {
      "text/plain": [
       "array([[242, 242, 242, 242, 242, 242, 242, 242, 242, 242],\n",
       "       [242, 242, 242, 242, 242, 242, 242, 242, 242, 242],\n",
       "       [242, 242, 242, 242, 242, 242, 242, 242, 242, 242],\n",
       "       [242, 242, 242, 242, 242, 242, 242, 242, 242, 242],\n",
       "       [242, 242, 242, 242, 242, 242, 216, 180, 140,  34],\n",
       "       [242, 219, 183, 144,  96,  40,  13,  11,   8,   1],\n",
       "       [ 46,  14,  11,   9,   5,   2,   0,   0,   0,   0],\n",
       "       [  2,   0,   0,   0,   0,   0,   0,   0,   0,   0],\n",
       "       [  0,   0,   0,   0,   0,   0,   0,   0,   0,   0],\n",
       "       [  0,   0,   0,   0,   0,   0,   0,   0,   0,   0]], dtype=uint8)"
      ]
     },
     "execution_count": 47,
     "metadata": {},
     "output_type": "execute_result"
    }
   ],
   "source": [
    "npim[271:281, 465:475]"
   ]
  },
  {
   "cell_type": "code",
   "execution_count": 48,
   "id": "6a2a4983-29f7-4dec-bccd-a1fe2358b748",
   "metadata": {},
   "outputs": [
    {
     "data": {
      "image/png": "[encoded data removed]",
      "text/plain": [
       "<PIL.Image.Image image mode=L size=587x283 at 0x1FA30813CC8>"
      ]
     },
     "execution_count": 48,
     "metadata": {},
     "output_type": "execute_result"
    }
   ],
   "source": [
    "im"
   ]
  },
  {
   "cell_type": "code",
   "execution_count": 81,
   "id": "31140c43-e46c-4239-8a86-c248c6613939",
   "metadata": {},
   "outputs": [
    {
     "data": {
      "text/plain": [
       "array([123, 404], dtype=int64)"
      ]
     },
     "execution_count": 81,
     "metadata": {},
     "output_type": "execute_result"
    }
   ],
   "source": [
    "np.amin(np.where(npim > 0), axis=1)"
   ]
  },
  {
   "cell_type": "code",
   "execution_count": 104,
   "id": "1cee1151-c8a9-4a30-b81a-f3192fdc2997",
   "metadata": {},
   "outputs": [
    {
     "data": {
      "text/plain": [
       "tensor([123, 404])"
      ]
     },
     "execution_count": 104,
     "metadata": {},
     "output_type": "execute_result"
    }
   ],
   "source": [
    "torch.amin(torch.stack(torch.where(ptim > 0)), dim=1)"
   ]
  },
  {
   "cell_type": "code",
   "execution_count": null,
   "id": "1ff2db96-2619-4095-99bd-53b52c8a16ea",
   "metadata": {},
   "outputs": [],
   "source": []
  }
 ],
 "metadata": {
  "kernelspec": {
   "display_name": "Python 3 (ipykernel)",
   "language": "python",
   "name": "python3"
  },
  "language_info": {
   "codemirror_mode": {
    "name": "ipython",
    "version": 3
   },
   "file_extension": ".py",
   "mimetype": "text/x-python",
   "name": "python",
   "nbconvert_exporter": "python",
   "pygments_lexer": "ipython3",
   "version": "3.7.11"
  }
 },
 "nbformat": 4,
 "nbformat_minor": 5
}
