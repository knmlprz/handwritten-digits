{
 "cells": [
  {
   "cell_type": "markdown",
   "id": "fef45b41-01b4-47de-83c3-ff3edbd47c06",
   "metadata": {},
   "source": [
    "## Image preprocessing\n",
    "\n",
    "\n",
    "The algorithm should be able to process an image like this:\n",
    "\n",
    "![image_example](image_example.png)\n",
    "\n",
    "into the MNIST-like image."
   ]
  },
  {
   "cell_type": "code",
   "execution_count": 1,
   "id": "6c0c263f-2a52-49e7-ac67-6ce4970c8b04",
   "metadata": {},
   "outputs": [],
   "source": [
    "import numpy as np\n",
    "import matplotlib.pyplot as plt\n",
    "from PIL import Image\n",
    "\n",
    "import torch\n",
    "import torchvision.transforms as T"
   ]
  },
  {
   "cell_type": "code",
   "execution_count": 50,
   "id": "27e7b276-1569-4853-b86b-6098b1ec08a3",
   "metadata": {},
   "outputs": [
    {
     "data": {
      "text/plain": [
       "tensor([[0, 0, 0, 0, 0],\n",
       "        [0, 0, 0, 0, 0],\n",
       "        [0, 0, 0, 0, 0],\n",
       "        [0, 0, 0, 0, 0]], dtype=torch.uint8)"
      ]
     },
     "execution_count": 50,
     "metadata": {},
     "output_type": "execute_result"
    }
   ],
   "source": [
    "im = T.Grayscale()(Image.open(\"image_example.png\"))\n",
    "npim = np.array(im)\n",
    "ptim = torch.from_numpy(npim)\n",
    "ptim[:4, :5]"
   ]
  },
  {
   "cell_type": "code",
   "execution_count": 51,
   "id": "8c4ac7de-afc1-4996-a500-fe94db6fbe31",
   "metadata": {},
   "outputs": [
    {
     "data": {
      "text/plain": [
       "(283, 587)"
      ]
     },
     "execution_count": 51,
     "metadata": {},
     "output_type": "execute_result"
    }
   ],
   "source": [
    "npim.shape"
   ]
  },
  {
   "cell_type": "code",
   "execution_count": 52,
   "id": "063ee643-3ecb-4da0-9bbe-844b7094fe8e",
   "metadata": {},
   "outputs": [
    {
     "data": {
      "text/plain": [
       "array([[242, 242, 242, 242, 242, 242, 242, 242, 242, 242],\n",
       "       [242, 242, 242, 242, 242, 242, 242, 242, 242, 242],\n",
       "       [242, 242, 242, 242, 242, 242, 242, 242, 242, 242],\n",
       "       [242, 242, 242, 242, 242, 242, 242, 242, 242, 242],\n",
       "       [242, 242, 242, 242, 242, 242, 216, 180, 140,  34],\n",
       "       [242, 219, 183, 144,  96,  40,  13,  11,   8,   1],\n",
       "       [ 46,  14,  11,   9,   5,   2,   0,   0,   0,   0],\n",
       "       [  2,   0,   0,   0,   0,   0,   0,   0,   0,   0],\n",
       "       [  0,   0,   0,   0,   0,   0,   0,   0,   0,   0],\n",
       "       [  0,   0,   0,   0,   0,   0,   0,   0,   0,   0]], dtype=uint8)"
      ]
     },
     "execution_count": 52,
     "metadata": {},
     "output_type": "execute_result"
    }
   ],
   "source": [
    "npim[271:281, 465:475]"
   ]
  },
  {
   "cell_type": "code",
   "execution_count": 53,
   "id": "6a2a4983-29f7-4dec-bccd-a1fe2358b748",
   "metadata": {},
   "outputs": [
    {
     "data": {
      "image/png": "[encoded data removed]",
      "text/plain": [
       "<PIL.Image.Image image mode=L size=587x283 at 0x1E6D276D208>"
      ]
     },
     "execution_count": 53,
     "metadata": {},
     "output_type": "execute_result"
    }
   ],
   "source": [
    "im"
   ]
  },
  {
   "cell_type": "code",
   "execution_count": 54,
   "id": "31140c43-e46c-4239-8a86-c248c6613939",
   "metadata": {},
   "outputs": [
    {
     "data": {
      "text/plain": [
       "array([123, 404], dtype=int64)"
      ]
     },
     "execution_count": 54,
     "metadata": {},
     "output_type": "execute_result"
    }
   ],
   "source": [
    "np.amin(np.where(npim > 0), axis=1)"
   ]
  },
  {
   "cell_type": "code",
   "execution_count": 55,
   "id": "1cee1151-c8a9-4a30-b81a-f3192fdc2997",
   "metadata": {},
   "outputs": [
    {
     "data": {
      "text/plain": [
       "tensor([123, 404])"
      ]
     },
     "execution_count": 55,
     "metadata": {},
     "output_type": "execute_result"
    }
   ],
   "source": [
    "torch.amin(torch.stack(torch.where(ptim > 0)), dim=1)"
   ]
  },
  {
   "cell_type": "code",
   "execution_count": 56,
   "id": "1ff2db96-2619-4095-99bd-53b52c8a16ea",
   "metadata": {},
   "outputs": [
    {
     "data": {
      "text/plain": [
       "([], [])"
      ]
     },
     "execution_count": 56,
     "metadata": {},
     "output_type": "execute_result"
    },
    {
     "data": {
      "image/png": "[encoded data removed]",
      "text/plain": [
       "<Figure size 432x288 with 1 Axes>"
      ]
     },
     "metadata": {},
     "output_type": "display_data"
    }
   ],
   "source": [
    "top, left = torch.amin(torch.stack(torch.where(ptim > 0)), dim=1)\n",
    "bottom, right = torch.amax(torch.stack(torch.where(ptim > 0)), dim=1)\n",
    "plt.imshow(ptim[top:bottom, left:right], cmap='gray')\n",
    "plt.xticks([])\n",
    "plt.yticks([])"
   ]
  },
  {
   "cell_type": "code",
   "execution_count": 57,
   "id": "b0904307-bcfa-4b87-b861-0769d4346280",
   "metadata": {},
   "outputs": [
    {
     "data": {
      "text/plain": [
       "tensor([200, 460])"
      ]
     },
     "execution_count": 57,
     "metadata": {},
     "output_type": "execute_result"
    }
   ],
   "source": [
    "center = torch.tensor([(top.item() + bottom.item()) // 2, (left.item() + right.item()) // 2])\n",
    "center"
   ]
  },
  {
   "cell_type": "code",
   "execution_count": 58,
   "id": "392112b4-f4c6-4479-b9c1-65166a3de221",
   "metadata": {},
   "outputs": [
    {
     "data": {
      "text/plain": [
       "tensor(78)"
      ]
     },
     "execution_count": 58,
     "metadata": {},
     "output_type": "execute_result"
    }
   ],
   "source": [
    "imrad = max(bottom - center[0], right - center[1])\n",
    "imrad"
   ]
  },
  {
   "cell_type": "code",
   "execution_count": 59,
   "id": "4faa22ff-1760-47ca-bc56-bbb7a659251b",
   "metadata": {},
   "outputs": [
    {
     "data": {
      "text/plain": [
       "tensor([True, True])"
      ]
     },
     "execution_count": 59,
     "metadata": {},
     "output_type": "execute_result"
    }
   ],
   "source": [
    "center + imrad < torch.tensor(ptim.size())"
   ]
  },
  {
   "cell_type": "code",
   "execution_count": 60,
   "id": "82a5c851-4267-4094-9666-d517c74df4e0",
   "metadata": {},
   "outputs": [
    {
     "data": {
      "text/plain": [
       "tensor([ 5, 49])"
      ]
     },
     "execution_count": 60,
     "metadata": {},
     "output_type": "execute_result"
    }
   ],
   "source": [
    "torch.tensor(ptim.size()) - (center + imrad)"
   ]
  },
  {
   "cell_type": "code",
   "execution_count": 61,
   "id": "858c8d48-5b76-4b87-bf8e-104cf0d8c79a",
   "metadata": {},
   "outputs": [
    {
     "data": {
      "text/plain": [
       "([], [])"
      ]
     },
     "execution_count": 61,
     "metadata": {},
     "output_type": "execute_result"
    },
    {
     "data": {
      "image/png": "[encoded data removed]",
      "text/plain": [
       "<Figure size 432x288 with 1 Axes>"
      ]
     },
     "metadata": {},
     "output_type": "display_data"
    }
   ],
   "source": [
    "if sum(center + imrad < torch.tensor(ptim.size())) < 2 or sum(center - imrad > 0) < 2:\n",
    "    br_offsite = abs(min(torch.tensor(ptim.size()) - (center + imrad)))\n",
    "    tl_offsite = abs(min(center - imrad))\n",
    "    pad = max(br_offsite, tl_offsite)\n",
    "    ptim_2 = T.Pad(padding=pad.item())(ptim)\n",
    "    center += pad\n",
    "else:\n",
    "    ptim_2 = ptim\n",
    "    \n",
    "plt.imshow(ptim_2, cmap='gray')\n",
    "plt.xticks([])\n",
    "plt.yticks([])"
   ]
  },
  {
   "cell_type": "code",
   "execution_count": 62,
   "id": "26d1acb0-a2ab-4878-85ca-7e1f2d2c7ba5",
   "metadata": {},
   "outputs": [
    {
     "data": {
      "text/plain": [
       "(torch.Size([283, 587]), torch.Size([283, 587]))"
      ]
     },
     "execution_count": 62,
     "metadata": {},
     "output_type": "execute_result"
    }
   ],
   "source": [
    "ptim.size(), ptim_2.size()"
   ]
  },
  {
   "cell_type": "code",
   "execution_count": 63,
   "id": "14bbfd7f-fb7a-4ab4-b93c-97a3c7e7676d",
   "metadata": {},
   "outputs": [
    {
     "data": {
      "text/plain": [
       "(tensor(122), tensor(382))"
      ]
     },
     "execution_count": 63,
     "metadata": {},
     "output_type": "execute_result"
    }
   ],
   "source": [
    "topc, leftc = center - imrad\n",
    "bottomc, rightc = center + imrad\n",
    "topc, leftc"
   ]
  },
  {
   "cell_type": "code",
   "execution_count": 64,
   "id": "b5d0328a-0fa3-41e9-b5a3-932267f8e2cc",
   "metadata": {},
   "outputs": [
    {
     "data": {
      "text/plain": [
       "([], [])"
      ]
     },
     "execution_count": 64,
     "metadata": {},
     "output_type": "execute_result"
    },
    {
     "data": {
      "image/png": "[encoded data removed]",
      "text/plain": [
       "<Figure size 432x288 with 1 Axes>"
      ]
     },
     "metadata": {},
     "output_type": "display_data"
    }
   ],
   "source": [
    "ptim_3 = ptim_2[topc:bottomc, leftc:rightc]\n",
    "plt.imshow(ptim_3, cmap='gray')\n",
    "plt.xticks([])\n",
    "plt.yticks([])"
   ]
  },
  {
   "cell_type": "code",
   "execution_count": 67,
   "id": "de89ae4a-623a-4f19-b1ef-49cbc9f8b1af",
   "metadata": {},
   "outputs": [
    {
     "data": {
      "text/plain": [
       "([], [])"
      ]
     },
     "execution_count": 67,
     "metadata": {},
     "output_type": "execute_result"
    },
    {
     "data": {
      "image/png": "[encoded data removed]",
      "text/plain": [
       "<Figure size 432x288 with 1 Axes>"
      ]
     },
     "metadata": {},
     "output_type": "display_data"
    }
   ],
   "source": [
    "ptim_4 = T.Resize(size=[26, 26])(ptim_3.view(1, 1, *ptim_3.size())).view(26, 26)\n",
    "ptim_4 = T.Pad(padding=1)(ptim_4)\n",
    "plt.imshow(ptim_4, cmap='gray')\n",
    "plt.xticks([])\n",
    "plt.yticks([])"
   ]
  },
  {
   "cell_type": "code",
   "execution_count": 68,
   "id": "e2e6a5f4-e86b-4127-ba66-699251dd57be",
   "metadata": {},
   "outputs": [
    {
     "data": {
      "text/plain": [
       "torch.Size([28, 28])"
      ]
     },
     "execution_count": 68,
     "metadata": {},
     "output_type": "execute_result"
    }
   ],
   "source": [
    "ptim_4.size()"
   ]
  },
  {
   "cell_type": "code",
   "execution_count": 69,
   "id": "38a98a72-f596-4e17-bea2-7ab3304aca7f",
   "metadata": {},
   "outputs": [],
   "source": [
    "def prepare_image(im, back_val=0, output_size=28):\n",
    "    \"\"\"Prepares an image for training\n",
    "    \n",
    "    Parameters\n",
    "    ----------\n",
    "        im : PIL image\n",
    "            An input image.\n",
    "        back_val : integer, optional\n",
    "            The 8 bit color value which considered to be \n",
    "            a background of the image. Default 0.\n",
    "            (0 <= back_val <= 255) \n",
    "        output_size : integer, optional\n",
    "            The size of the output image. Default 28.\n",
    "    \"\"\"\n",
    "    # Convert to grayscale PyTorch Tensor\n",
    "    ptim = torch.from_numpy(np.array(T.Grayscale()(im)))\n",
    "    \n",
    "    # Find the digit in the image\n",
    "    top, left = torch.amin(torch.stack(\n",
    "        torch.where(ptim > back_val)), dim=1)\n",
    "    bottom, right = torch.amax(torch.stack(\n",
    "        torch.where(ptim > back_val)), dim=1)\n",
    "    center = torch.tensor([\n",
    "        (top.item() + bottom.item()) // 2, \n",
    "        (left.item() + right.item()) // 2,\n",
    "    ])\n",
    "    imrad = max(bottom - center[0], right - center[1])\n",
    "    \n",
    "    # Make a padding if the (center + radius) is biger \n",
    "    # then an input image or (center - radius) < 0.\n",
    "    if (sum(center + imrad < torch.tensor(ptim.size())) < 2 \n",
    "        or sum(center - imrad > 0) < 2):\n",
    "        \n",
    "        br_offsite = abs(min(torch.tensor(ptim.size()) - (center + imrad)))\n",
    "        tl_offsite = abs(min(center - imrad))\n",
    "        pad = max(br_offsite, tl_offsite)\n",
    "        ptim = T.Pad(padding=pad.item())(ptim)\n",
    "        center += pad\n",
    "    \n",
    "    # Crop and resize the image\n",
    "    topc, leftc = center - imrad\n",
    "    bottomc, rightc = center + imrad\n",
    "    ptim = ptim[topc:bottomc, leftc:rightc]\n",
    "    ptim = ptim.view(1, 1, *ptim.size())\n",
    "    ptim = T.Resize(size=[output_size-2, output_size-2])(ptim)\n",
    "    ptim = ptim.view(output_size-2, output_size-2)\n",
    "    ptim = T.Pad(padding=1)(ptim)\n",
    "    \n",
    "    return ptim\n",
    "    "
   ]
  },
  {
   "cell_type": "code",
   "execution_count": 71,
   "id": "f650d469-ca30-4c83-9f45-42a28b4d2e0e",
   "metadata": {},
   "outputs": [
    {
     "data": {
      "text/plain": [
       "([], [])"
      ]
     },
     "execution_count": 71,
     "metadata": {},
     "output_type": "execute_result"
    },
    {
     "data": {
      "image/png": "[encoded data removed]",
      "text/plain": [
       "<Figure size 432x288 with 1 Axes>"
      ]
     },
     "metadata": {},
     "output_type": "display_data"
    }
   ],
   "source": [
    "plt.imshow(prepare_image(im), cmap='gray')\n",
    "plt.xticks([])\n",
    "plt.yticks([])"
   ]
  },
  {
   "cell_type": "code",
   "execution_count": null,
   "id": "21dcab74-edbb-4e63-9667-2adc306274d9",
   "metadata": {},
   "outputs": [],
   "source": []
  }
 ],
 "metadata": {
  "kernelspec": {
   "display_name": "Python 3 (ipykernel)",
   "language": "python",
   "name": "python3"
  },
  "language_info": {
   "codemirror_mode": {
    "name": "ipython",
    "version": 3
   },
   "file_extension": ".py",
   "mimetype": "text/x-python",
   "name": "python",
   "nbconvert_exporter": "python",
   "pygments_lexer": "ipython3",
   "version": "3.7.11"
  }
 },
 "nbformat": 4,
 "nbformat_minor": 5
}
