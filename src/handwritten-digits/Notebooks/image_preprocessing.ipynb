{
 "cells": [
  {
   "cell_type": "markdown",
   "id": "fef45b41-01b4-47de-83c3-ff3edbd47c06",
   "metadata": {},
   "source": [
    "# **Image preprocessing**\n",
    "\n",
    "\n",
    "The algorithm should be able to process an image like this:\n",
    "\n",
    "![image_example](image_example.png)\n",
    "\n",
    "into the MNIST-like image."
   ]
  },
  {
   "cell_type": "markdown",
   "id": "3d0df8a7-cb81-4ca6-a8bd-424761212483",
   "metadata": {},
   "source": [
    "## **Step-by-step experiments**"
   ]
  },
  {
   "cell_type": "code",
   "execution_count": 1,
   "id": "6c0c263f-2a52-49e7-ac67-6ce4970c8b04",
   "metadata": {},
   "outputs": [],
   "source": [
    "import numpy as np\n",
    "import matplotlib.pyplot as plt\n",
    "from PIL import Image\n",
    "\n",
    "import torch\n",
    "import torchvision.transforms as T"
   ]
  },
  {
   "cell_type": "code",
   "execution_count": 2,
   "id": "27e7b276-1569-4853-b86b-6098b1ec08a3",
   "metadata": {},
   "outputs": [
    {
     "data": {
      "text/plain": [
       "tensor([[[0., 0., 0.,  ..., 0., 0., 0.],\n",
       "         [0., 0., 0.,  ..., 0., 0., 0.],\n",
       "         [0., 0., 0.,  ..., 0., 0., 0.],\n",
       "         [0., 0., 0.,  ..., 0., 0., 0.],\n",
       "         [0., 0., 0.,  ..., 0., 0., 0.]]])"
      ]
     },
     "execution_count": 2,
     "metadata": {},
     "output_type": "execute_result"
    }
   ],
   "source": [
    "im = T.Grayscale()(Image.open(\"image_example.png\"))\n",
    "npim = np.array(im)\n",
    "ptim = T.ToTensor()(im)\n",
    "ptim[:4, :5]"
   ]
  },
  {
   "cell_type": "code",
   "execution_count": 3,
   "id": "5f906769-71de-4c27-b3f8-7541065a3953",
   "metadata": {},
   "outputs": [
    {
     "data": {
      "text/plain": [
       "(tensor(0.0388), tensor(0.1860))"
      ]
     },
     "execution_count": 3,
     "metadata": {},
     "output_type": "execute_result"
    }
   ],
   "source": [
    "mean, std = ptim.mean(), ptim.std()\n",
    "mean, std"
   ]
  },
  {
   "cell_type": "code",
   "execution_count": 4,
   "id": "270535b2-480d-4727-ad7c-ea06a69afdae",
   "metadata": {},
   "outputs": [],
   "source": [
    "ptim = T.Normalize(ptim.mean(), ptim.std())(ptim)\n",
    "ptim = ptim.view(*ptim.size()[1:])\n",
    "fill_val = min(ptim.flatten()).item()"
   ]
  },
  {
   "cell_type": "code",
   "execution_count": 5,
   "id": "8c4ac7de-afc1-4996-a500-fe94db6fbe31",
   "metadata": {},
   "outputs": [
    {
     "data": {
      "text/plain": [
       "(283, 587)"
      ]
     },
     "execution_count": 5,
     "metadata": {},
     "output_type": "execute_result"
    }
   ],
   "source": [
    "npim.shape"
   ]
  },
  {
   "cell_type": "code",
   "execution_count": 6,
   "id": "063ee643-3ecb-4da0-9bbe-844b7094fe8e",
   "metadata": {},
   "outputs": [
    {
     "data": {
      "text/plain": [
       "tensor([[ 4.8935,  4.8935,  4.8935,  4.8935,  4.8935,  4.8935,  4.8935,  4.8935,\n",
       "          4.8935,  4.8935],\n",
       "        [ 4.8935,  4.8935,  4.8935,  4.8935,  4.8935,  4.8935,  4.8935,  4.8935,\n",
       "          4.8935,  4.8935],\n",
       "        [ 4.8935,  4.8935,  4.8935,  4.8935,  4.8935,  4.8935,  4.8935,  4.8935,\n",
       "          4.8935,  4.8935],\n",
       "        [ 4.8935,  4.8935,  4.8935,  4.8935,  4.8935,  4.8935,  4.8935,  4.8935,\n",
       "          4.8935,  4.8935],\n",
       "        [ 4.8935,  4.8935,  4.8935,  4.8935,  4.8935,  4.8935,  4.3453,  3.5863,\n",
       "          2.7430,  0.5082],\n",
       "        [ 4.8935,  4.4085,  3.6496,  2.8273,  1.8154,  0.6347,  0.0655,  0.0233,\n",
       "         -0.0399, -0.1875],\n",
       "        [ 0.7612,  0.0866,  0.0233, -0.0188, -0.1032, -0.1664, -0.2086, -0.2086,\n",
       "         -0.2086, -0.2086],\n",
       "        [-0.1664, -0.2086, -0.2086, -0.2086, -0.2086, -0.2086, -0.2086, -0.2086,\n",
       "         -0.2086, -0.2086],\n",
       "        [-0.2086, -0.2086, -0.2086, -0.2086, -0.2086, -0.2086, -0.2086, -0.2086,\n",
       "         -0.2086, -0.2086],\n",
       "        [-0.2086, -0.2086, -0.2086, -0.2086, -0.2086, -0.2086, -0.2086, -0.2086,\n",
       "         -0.2086, -0.2086]])"
      ]
     },
     "execution_count": 6,
     "metadata": {},
     "output_type": "execute_result"
    }
   ],
   "source": [
    "ptim[271:281, 465:475]"
   ]
  },
  {
   "cell_type": "code",
   "execution_count": 7,
   "id": "6a2a4983-29f7-4dec-bccd-a1fe2358b748",
   "metadata": {},
   "outputs": [
    {
     "data": {
      "image/png": "[encoded data removed]",
      "text/plain": [
       "<PIL.Image.Image image mode=L size=587x283 at 0x1F1CA418208>"
      ]
     },
     "execution_count": 7,
     "metadata": {},
     "output_type": "execute_result"
    }
   ],
   "source": [
    "im"
   ]
  },
  {
   "cell_type": "code",
   "execution_count": 8,
   "id": "31140c43-e46c-4239-8a86-c248c6613939",
   "metadata": {},
   "outputs": [
    {
     "data": {
      "text/plain": [
       "array([123, 404], dtype=int64)"
      ]
     },
     "execution_count": 8,
     "metadata": {},
     "output_type": "execute_result"
    }
   ],
   "source": [
    "np.amin(np.where(npim > 0), axis=1)"
   ]
  },
  {
   "cell_type": "code",
   "execution_count": 9,
   "id": "1cee1151-c8a9-4a30-b81a-f3192fdc2997",
   "metadata": {},
   "outputs": [
    {
     "data": {
      "text/plain": [
       "tensor([123, 404])"
      ]
     },
     "execution_count": 9,
     "metadata": {},
     "output_type": "execute_result"
    }
   ],
   "source": [
    "torch.amin(torch.stack(torch.where(ptim > 0)), dim=1)"
   ]
  },
  {
   "cell_type": "code",
   "execution_count": 10,
   "id": "1ff2db96-2619-4095-99bd-53b52c8a16ea",
   "metadata": {},
   "outputs": [
    {
     "data": {
      "text/plain": [
       "([], [])"
      ]
     },
     "execution_count": 10,
     "metadata": {},
     "output_type": "execute_result"
    },
    {
     "data": {
      "image/png": "[encoded data removed]",
      "text/plain": [
       "<Figure size 432x288 with 1 Axes>"
      ]
     },
     "metadata": {},
     "output_type": "display_data"
    }
   ],
   "source": [
    "top, left = torch.amin(torch.stack(torch.where(ptim > 0)), dim=1)\n",
    "bottom, right = torch.amax(torch.stack(torch.where(ptim > 0)), dim=1)\n",
    "plt.imshow(ptim[top:bottom, left:right], cmap='gray')\n",
    "plt.xticks([])\n",
    "plt.yticks([])"
   ]
  },
  {
   "cell_type": "code",
   "execution_count": 11,
   "id": "b0904307-bcfa-4b87-b861-0769d4346280",
   "metadata": {},
   "outputs": [
    {
     "data": {
      "text/plain": [
       "tensor([200, 460])"
      ]
     },
     "execution_count": 11,
     "metadata": {},
     "output_type": "execute_result"
    }
   ],
   "source": [
    "center = torch.tensor([(top.item() + bottom.item()) // 2, (left.item() + right.item()) // 2])\n",
    "center"
   ]
  },
  {
   "cell_type": "code",
   "execution_count": 12,
   "id": "392112b4-f4c6-4479-b9c1-65166a3de221",
   "metadata": {},
   "outputs": [
    {
     "data": {
      "text/plain": [
       "tensor(78)"
      ]
     },
     "execution_count": 12,
     "metadata": {},
     "output_type": "execute_result"
    }
   ],
   "source": [
    "imrad = max(bottom - center[0], right - center[1])\n",
    "imrad"
   ]
  },
  {
   "cell_type": "code",
   "execution_count": 13,
   "id": "4faa22ff-1760-47ca-bc56-bbb7a659251b",
   "metadata": {},
   "outputs": [
    {
     "data": {
      "text/plain": [
       "tensor([True, True])"
      ]
     },
     "execution_count": 13,
     "metadata": {},
     "output_type": "execute_result"
    }
   ],
   "source": [
    "center + imrad < torch.tensor(ptim.size())"
   ]
  },
  {
   "cell_type": "code",
   "execution_count": 14,
   "id": "82a5c851-4267-4094-9666-d517c74df4e0",
   "metadata": {},
   "outputs": [
    {
     "data": {
      "text/plain": [
       "tensor([ 5, 49])"
      ]
     },
     "execution_count": 14,
     "metadata": {},
     "output_type": "execute_result"
    }
   ],
   "source": [
    "torch.tensor(ptim.size()) - (center + imrad)"
   ]
  },
  {
   "cell_type": "code",
   "execution_count": 15,
   "id": "858c8d48-5b76-4b87-bf8e-104cf0d8c79a",
   "metadata": {},
   "outputs": [
    {
     "data": {
      "text/plain": [
       "([], [])"
      ]
     },
     "execution_count": 15,
     "metadata": {},
     "output_type": "execute_result"
    },
    {
     "data": {
      "image/png": "[encoded data removed]",
      "text/plain": [
       "<Figure size 432x288 with 1 Axes>"
      ]
     },
     "metadata": {},
     "output_type": "display_data"
    }
   ],
   "source": [
    "if sum(center + imrad < torch.tensor(ptim.size())) < 2 or sum(center - imrad > 0) < 2:\n",
    "    br_offsite = abs(min(torch.tensor(ptim.size()) - (center + imrad)))\n",
    "    tl_offsite = abs(min(center - imrad))\n",
    "    pad = max(br_offsite, tl_offsite)\n",
    "    ptim_2 = T.Pad(padding=pad.item(), fill=fill_val)(ptim)\n",
    "    center += pad\n",
    "else:\n",
    "    ptim_2 = ptim\n",
    "    \n",
    "plt.imshow(ptim_2, cmap='gray')\n",
    "plt.xticks([])\n",
    "plt.yticks([])"
   ]
  },
  {
   "cell_type": "code",
   "execution_count": 16,
   "id": "26d1acb0-a2ab-4878-85ca-7e1f2d2c7ba5",
   "metadata": {},
   "outputs": [
    {
     "data": {
      "text/plain": [
       "(torch.Size([283, 587]), torch.Size([283, 587]))"
      ]
     },
     "execution_count": 16,
     "metadata": {},
     "output_type": "execute_result"
    }
   ],
   "source": [
    "ptim.size(), ptim_2.size()"
   ]
  },
  {
   "cell_type": "code",
   "execution_count": 17,
   "id": "14bbfd7f-fb7a-4ab4-b93c-97a3c7e7676d",
   "metadata": {},
   "outputs": [
    {
     "data": {
      "text/plain": [
       "(tensor(122), tensor(382))"
      ]
     },
     "execution_count": 17,
     "metadata": {},
     "output_type": "execute_result"
    }
   ],
   "source": [
    "topc, leftc = center - imrad\n",
    "bottomc, rightc = center + imrad\n",
    "topc, leftc"
   ]
  },
  {
   "cell_type": "code",
   "execution_count": 18,
   "id": "b5d0328a-0fa3-41e9-b5a3-932267f8e2cc",
   "metadata": {},
   "outputs": [
    {
     "data": {
      "text/plain": [
       "([], [])"
      ]
     },
     "execution_count": 18,
     "metadata": {},
     "output_type": "execute_result"
    },
    {
     "data": {
      "image/png": "[encoded data removed]",
      "text/plain": [
       "<Figure size 432x288 with 1 Axes>"
      ]
     },
     "metadata": {},
     "output_type": "display_data"
    }
   ],
   "source": [
    "ptim_3 = ptim_2[topc:bottomc, leftc:rightc]\n",
    "plt.imshow(ptim_3, cmap='gray')\n",
    "plt.xticks([])\n",
    "plt.yticks([])"
   ]
  },
  {
   "cell_type": "code",
   "execution_count": 19,
   "id": "de89ae4a-623a-4f19-b1ef-49cbc9f8b1af",
   "metadata": {},
   "outputs": [
    {
     "data": {
      "text/plain": [
       "([], [])"
      ]
     },
     "execution_count": 19,
     "metadata": {},
     "output_type": "execute_result"
    },
    {
     "data": {
      "image/png": "[encoded data removed]",
      "text/plain": [
       "<Figure size 432x288 with 1 Axes>"
      ]
     },
     "metadata": {},
     "output_type": "display_data"
    }
   ],
   "source": [
    "ptim_4 = T.Resize(size=[26, 26])(ptim_3.view(1, 1, *ptim_3.size())).view(26, 26)\n",
    "ptim_4 = T.Pad(padding=1, fill=fill_val)(ptim_4)\n",
    "plt.imshow(ptim_4, cmap='gray')\n",
    "plt.xticks([])\n",
    "plt.yticks([])"
   ]
  },
  {
   "cell_type": "code",
   "execution_count": 20,
   "id": "e2e6a5f4-e86b-4127-ba66-699251dd57be",
   "metadata": {},
   "outputs": [
    {
     "data": {
      "text/plain": [
       "torch.Size([28, 28])"
      ]
     },
     "execution_count": 20,
     "metadata": {},
     "output_type": "execute_result"
    }
   ],
   "source": [
    "ptim_4.size()"
   ]
  },
  {
   "cell_type": "markdown",
   "id": "24367ba1-0a7c-4e02-99ca-1b74c02ff0f4",
   "metadata": {},
   "source": [
    "## **Complete function**"
   ]
  },
  {
   "cell_type": "code",
   "execution_count": 45,
   "id": "38a98a72-f596-4e17-bea2-7ab3304aca7f",
   "metadata": {},
   "outputs": [],
   "source": [
    "def prepare_image(im, output_size=28):\n",
    "    \"\"\"Prepares an image for training\n",
    "    \n",
    "    Parameters\n",
    "    ----------\n",
    "        im : PIL image\n",
    "            An input image.\n",
    "        output_size : integer, optional\n",
    "            The size of the output image. Default 28.\n",
    "    \"\"\"\n",
    "    # Convert to grayscale PyTorch Tensor\n",
    "    ptim = T.ToTensor()(T.Grayscale()(im))\n",
    "    ptim = ptim.view(*ptim.size()[1:])\n",
    "    back_val = min(ptim.flatten()).item()\n",
    "      \n",
    "    # Find the digit in the image\n",
    "    top, left = torch.amin(torch.stack(\n",
    "        torch.where(ptim > back_val)), dim=1)\n",
    "    bottom, right = torch.amax(torch.stack(\n",
    "        torch.where(ptim > back_val)), dim=1)\n",
    "    center = torch.tensor([\n",
    "        (top.item() + bottom.item()) // 2, \n",
    "        (left.item() + right.item()) // 2,\n",
    "    ])\n",
    "    imrad = max(bottom - center[0], right - center[1])\n",
    "    \n",
    "    # Make a padding if the (center + radius) is biger \n",
    "    # then an input image or (center - radius) < 0.\n",
    "    if (sum(center + imrad < torch.tensor(ptim.size())) < 2 \n",
    "        or sum(center - imrad > 0) < 2):\n",
    "        \n",
    "        br_offsite = abs(min(torch.tensor(ptim.size()) - (center + imrad)))\n",
    "        tl_offsite = abs(min(center - imrad))\n",
    "        pad = max(br_offsite, tl_offsite)\n",
    "        ptim = T.Pad(padding=pad.item(), fill=back_val)(ptim)\n",
    "        center += pad\n",
    "    \n",
    "    # Crop, resize and normalize the image\n",
    "    topc, leftc = center - imrad\n",
    "    bottomc, rightc = center + imrad\n",
    "    ptim = ptim[topc:bottomc, leftc:rightc]\n",
    "    ptim = ptim.view(1, 1, *ptim.size())\n",
    "    ptim = T.Resize(size=[output_size-4, output_size-4])(ptim)\n",
    "    ptim = T.Pad(padding=2, fill=back_val)(ptim)\n",
    "    mean, std = ptim.mean(), ptim.std()\n",
    "    ptim = T.Normalize(mean, std)(ptim)\n",
    "    \n",
    "    return ptim\n",
    "    "
   ]
  },
  {
   "cell_type": "markdown",
   "id": "0db057c3-19ed-400c-902d-8962c59aa42a",
   "metadata": {},
   "source": [
    "## **Exhibition**"
   ]
  },
  {
   "cell_type": "code",
   "execution_count": 46,
   "id": "f650d469-ca30-4c83-9f45-42a28b4d2e0e",
   "metadata": {
    "tags": []
   },
   "outputs": [
    {
     "data": {
      "image/png": "[encoded data removed]",
      "text/plain": [
       "<PIL.PngImagePlugin.PngImageFile image mode=RGBA size=587x283 at 0x1F1CA5A5F08>"
      ]
     },
     "execution_count": 46,
     "metadata": {},
     "output_type": "execute_result"
    }
   ],
   "source": [
    "im1 = Image.open(\"image_example.png\")\n",
    "im1"
   ]
  },
  {
   "cell_type": "code",
   "execution_count": 47,
   "id": "7eb432d1-7759-438f-9f06-4eb8870404cc",
   "metadata": {
    "tags": []
   },
   "outputs": [
    {
     "data": {
      "image/png": "[encoded data removed]",
      "text/plain": [
       "<Figure size 432x288 with 1 Axes>"
      ]
     },
     "metadata": {},
     "output_type": "display_data"
    }
   ],
   "source": [
    "plt.imshow(prepare_image(im1)[0][0], cmap='gray')\n",
    "plt.xticks([])\n",
    "plt.yticks([])\n",
    "plt.show()"
   ]
  },
  {
   "cell_type": "code",
   "execution_count": 48,
   "id": "21dcab74-edbb-4e63-9667-2adc306274d9",
   "metadata": {},
   "outputs": [
    {
     "data": {
      "image/png": "[encoded data removed]",
      "text/plain": [
       "<PIL.PngImagePlugin.PngImageFile image mode=RGBA size=913x517 at 0x1F1CA521488>"
      ]
     },
     "execution_count": 48,
     "metadata": {},
     "output_type": "execute_result"
    }
   ],
   "source": [
    "im2 = Image.open(\"image_example_v2.png\")\n",
    "im2"
   ]
  },
  {
   "cell_type": "code",
   "execution_count": 49,
   "id": "9a509278-03d4-4cdb-85d3-0149322ae938",
   "metadata": {},
   "outputs": [
    {
     "data": {
      "image/png": "[encoded data removed]",
      "text/plain": [
       "<Figure size 432x288 with 1 Axes>"
      ]
     },
     "metadata": {},
     "output_type": "display_data"
    }
   ],
   "source": [
    "plt.imshow(prepare_image(im2)[0][0], cmap='gray')\n",
    "plt.xticks([])\n",
    "plt.yticks([])\n",
    "plt.show()"
   ]
  },
  {
   "cell_type": "code",
   "execution_count": 50,
   "id": "88bedf0e-3171-4992-8db8-48f11893368f",
   "metadata": {},
   "outputs": [
    {
     "data": {
      "image/png": "[encoded data removed]",
      "text/plain": [
       "<PIL.PngImagePlugin.PngImageFile image mode=RGBA size=298x285 at 0x1F1CA535B08>"
      ]
     },
     "execution_count": 50,
     "metadata": {},
     "output_type": "execute_result"
    }
   ],
   "source": [
    "im3 = Image.open(\"image_example_v3.png\")\n",
    "im3"
   ]
  },
  {
   "cell_type": "code",
   "execution_count": 51,
   "id": "4b35dce5-9baa-4fd7-95f3-b233b00950b3",
   "metadata": {},
   "outputs": [
    {
     "data": {
      "image/png": "[encoded data removed]",
      "text/plain": [
       "<Figure size 432x288 with 1 Axes>"
      ]
     },
     "metadata": {},
     "output_type": "display_data"
    }
   ],
   "source": [
    "plt.imshow(prepare_image(im3)[0][0], cmap='gray')\n",
    "plt.xticks([])\n",
    "plt.yticks([])\n",
    "plt.show()"
   ]
  },
  {
   "cell_type": "code",
   "execution_count": null,
   "id": "e7d65818-bd04-49f3-9ae3-fa2bb225dace",
   "metadata": {},
   "outputs": [],
   "source": []
  }
 ],
 "metadata": {
  "kernelspec": {
   "display_name": "Python 3 (ipykernel)",
   "language": "python",
   "name": "python3"
  },
  "language_info": {
   "codemirror_mode": {
    "name": "ipython",
    "version": 3
   },
   "file_extension": ".py",
   "mimetype": "text/x-python",
   "name": "python",
   "nbconvert_exporter": "python",
   "pygments_lexer": "ipython3",
   "version": "3.7.11"
  }
 },
 "nbformat": 4,
 "nbformat_minor": 5
}
